{
  "nbformat": 4,
  "nbformat_minor": 0,
  "metadata": {
    "colab": {
      "name": "Untitled1.ipynb",
      "provenance": [],
      "mount_file_id": "1AUtmnnKQnPnJzcvvqxHooesbnOtO7-bF",
      "authorship_tag": "ABX9TyM9jP8IN73sDWl9QNvhk/mD"
    },
    "kernelspec": {
      "name": "python3",
      "display_name": "Python 3"
    },
    "language_info": {
      "name": "python"
    }
  },
  "cells": [
    {
      "cell_type": "markdown",
      "source": [
        "2. You are given a list of tuples. Each tuple can contain any number of integers. Write a code to sort the list by the average value the tuples. (The code should be as optimized as possible)"
      ],
      "metadata": {
        "id": "z0_LjmePKSor"
      }
    },
    {
      "cell_type": "code",
      "execution_count": 7,
      "metadata": {
        "colab": {
          "base_uri": "https://localhost:8080/"
        },
        "id": "C9OiUsNBHyRw",
        "outputId": "ed7ba2c4-49e2-4b75-bd94-3cb1d1cabb63"
      },
      "outputs": [
        {
          "output_type": "stream",
          "name": "stdout",
          "text": [
            "[(12, 10), (6, 28), (20, 24)]\n"
          ]
        }
      ],
      "source": [
        "def Sort_Tuple(tup): \n",
        "    lst = len(tup) \n",
        "    for i in range(0, lst): \n",
        "          \n",
        "        for j in range(0, lst-i-1): \n",
        "            if (tup[j][1] > ((tup[j + 1][0] + tup[j + 1][1]) / 2)): \n",
        "                temp = tup[j] \n",
        "                tup[j]= tup[j + 1] \n",
        "                tup[j + 1]= temp \n",
        "    return tup \n",
        "\n",
        "a = Sort_Tuple([(20, 24), (12, 10), (6, 28)])\n",
        "print(a)"
      ]
    },
    {
      "cell_type": "markdown",
      "source": [
        "4. There is an array \"nums\" of integers. Write a function to generate an array \"output\" such that output[i] is equal to the product of all the elements of \"nums\" except nums[i].\n",
        " All elements of \"nums\" are small enough to guaranty that the product will not exceed a 32-bit integer.\n",
        "Your algorithm must run in O(n) time and without using the division operation"
      ],
      "metadata": {
        "id": "yT_eehbdKiXU"
      }
    },
    {
      "cell_type": "code",
      "source": [
        "def productArray(arr, n):\n",
        " \n",
        "   \n",
        "    if(n == 1):\n",
        "        print(0)\n",
        "        return\n",
        "         \n",
        "   \n",
        "    left = [0]*n\n",
        "    right = [0]*n\n",
        " \n",
        "    \n",
        "    prod = [0]*n\n",
        " \n",
        "   \n",
        "    left[0] = 1\n",
        " \n",
        "    \n",
        "    right[n - 1] = 1\n",
        " \n",
        "   \n",
        "    for i in range(1, n):\n",
        "        left[i] = arr[i - 1] * left[i - 1]\n",
        " \n",
        "   \n",
        "    for j in range(n-2, -1, -1):\n",
        "        right[j] = arr[j + 1] * right[j + 1]\n",
        " \n",
        "    \n",
        "    for i in range(n):\n",
        "        prod[i] = left[i] * right[i]\n",
        " \n",
        "    \n",
        "    for i in range(n):\n",
        "        print(prod[i], end =' ')\n",
        " \n",
        " \n",
        "\n",
        "arr = [10, 3, 5, 6, 2]\n",
        "n = len(arr)\n",
        "print(\"The product array is:\")\n",
        "productArray(arr, n)"
      ],
      "metadata": {
        "colab": {
          "base_uri": "https://localhost:8080/"
        },
        "id": "PnCgQIr5CU92",
        "outputId": "039addef-7282-4955-84e3-ffe8fc8a850c"
      },
      "execution_count": 18,
      "outputs": [
        {
          "output_type": "stream",
          "name": "stdout",
          "text": [
            "The product array is:\n",
            "180 600 360 300 900 "
          ]
        }
      ]
    },
    {
      "cell_type": "markdown",
      "source": [
        "1. Write a function in Python to search a string in all the files in a folder and its sub-folders.\n",
        "The input arguments are \"folder_path\" and \"search_string\". The output should be a list of\n",
        "file paths.\n"
      ],
      "metadata": {
        "id": "gSWzwJi2K8Bp"
      }
    },
    {
      "cell_type": "code",
      "source": [
        "import os\n",
        "from os import walk\n",
        "def findString(path, string):\n",
        "    paths = []\n",
        "    for root, dirs, files in walk(path):\n",
        "        for name in files:\n",
        "            with open(os.path.join(root, name),'r') as f:\n",
        "                for line in f:\n",
        "                    if re.search(string,line):\n",
        "                        paths.append(os.path.abspath(name))\n",
        "    return paths\n",
        "paths = findString('/content/drive/MyDrive/pyhton rakesh','pk')\n",
        "print(paths)"
      ],
      "metadata": {
        "colab": {
          "base_uri": "https://localhost:8080/"
        },
        "id": "5761dbb5H2pf",
        "outputId": "e0ce40e2-d891-474b-df14-0b954916d970"
      },
      "execution_count": 20,
      "outputs": [
        {
          "output_type": "stream",
          "name": "stdout",
          "text": [
            "[]\n"
          ]
        }
      ]
    },
    {
      "cell_type": "markdown",
      "source": [
        "5. Given a table of order details of some restaurants in the file\n",
        "“restaurant_order_details.csv”. Find the following information from the CSV file\n",
        "(preferably using Pandas library).\n",
        "\n",
        "(a) Find a list of unique cities.\n",
        "\n",
        "(b) Find unique restaurant ids in each city\n",
        "\n",
        "(c) Find number of vegetarian restaurants in each city\n",
        "\n",
        "(d) Find the week day (Monday-Friday) on which there is maximum orders on vegetarian restaurants (on average) in each city.\n",
        "\n",
        "(e) On an average, which city has the maximum number of orders per restaurant on\n",
        "Sundays?\n",
        "\n",
        "Preference will be given upon optimization of code."
      ],
      "metadata": {
        "id": "8geh9LVQMgJJ"
      }
    },
    {
      "cell_type": "code",
      "source": [
        "import os\n",
        "\n",
        "def file_list(folder_path, search_string):\n",
        "  files_list = os.listdir(folder_path)\n",
        "  filtered = [i for i in files_list if i.find(search_string) != -1]\n",
        "  return filtered\n",
        "file_list('sample_data', 'csv')"
      ],
      "metadata": {
        "colab": {
          "base_uri": "https://localhost:8080/"
        },
        "id": "Ach_9aWNMbuh",
        "outputId": "117948f3-1f56-4756-8f77-390c5a82ff92"
      },
      "execution_count": 22,
      "outputs": [
        {
          "output_type": "execute_result",
          "data": {
            "text/plain": [
              "['california_housing_test.csv',\n",
              " 'california_housing_train.csv',\n",
              " 'mnist_test.csv',\n",
              " 'mnist_train_small.csv']"
            ]
          },
          "metadata": {},
          "execution_count": 22
        }
      ]
    }
  ]
}